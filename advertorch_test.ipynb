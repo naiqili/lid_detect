{
 "cells": [
  {
   "cell_type": "code",
   "execution_count": 5,
   "metadata": {},
   "outputs": [],
   "source": [
    "import matplotlib.pyplot as plt\n",
    "%matplotlib inline\n",
    "\n",
    "import os\n",
    "import argparse\n",
    "import torch\n",
    "import torchvision\n",
    "import torch.nn as nn\n",
    "\n",
    "from advertorch.utils import predict_from_logits\n",
    "from advertorch_examples.utils import get_mnist_test_loader\n",
    "from advertorch_examples.utils import _imshow\n",
    "\n",
    "torch.manual_seed(0)\n",
    "use_cuda = torch.cuda.is_available()\n",
    "device = torch.device(\"cuda\" if use_cuda else \"cpu\")"
   ]
  },
  {
   "cell_type": "code",
   "execution_count": 6,
   "metadata": {},
   "outputs": [
    {
     "data": {
      "text/plain": [
       "LeNet5(\n",
       "  (conv1): Conv2d(1, 32, kernel_size=(3, 3), stride=(1, 1), padding=(1, 1))\n",
       "  (relu1): ReLU(inplace)\n",
       "  (maxpool1): MaxPool2d(kernel_size=2, stride=2, padding=0, dilation=1, ceil_mode=False)\n",
       "  (conv2): Conv2d(32, 64, kernel_size=(3, 3), stride=(1, 1), padding=(1, 1))\n",
       "  (relu2): ReLU(inplace)\n",
       "  (maxpool2): MaxPool2d(kernel_size=2, stride=2, padding=0, dilation=1, ceil_mode=False)\n",
       "  (linear1): Linear(in_features=3136, out_features=200, bias=True)\n",
       "  (relu3): ReLU(inplace)\n",
       "  (linear2): Linear(in_features=200, out_features=10, bias=True)\n",
       ")"
      ]
     },
     "execution_count": 6,
     "metadata": {},
     "output_type": "execute_result"
    }
   ],
   "source": [
    "from advertorch.test_utils import LeNet5\n",
    "from advertorch_examples.utils import TRAINED_MODEL_PATH\n",
    "\n",
    "filename = \"mnist_lenet5_clntrained.pt\"\n",
    "# filename = \"mnist_lenet5_advtrained.pt\"\n",
    "\n",
    "model = LeNet5()\n",
    "model.load_state_dict(\n",
    "    torch.load(os.path.join(TRAINED_MODEL_PATH, filename)))\n",
    "model.to(device)\n",
    "model.eval()"
   ]
  },
  {
   "cell_type": "code",
   "execution_count": 37,
   "metadata": {},
   "outputs": [],
   "source": [
    "batch_size = 3\n",
    "\n",
    "ds_train10 = torchvision.datasets.MNIST('./data/', train=True, download=False,\n",
    "                             transform=torchvision.transforms.Compose([\n",
    "                               torchvision.transforms.ToTensor(),\n",
    "                             ]));\n",
    "#test数据集\n",
    "ds_test10 = torchvision.datasets.MNIST('./data/', train=False, download=False,\n",
    "                             transform=torchvision.transforms.Compose([\n",
    "                               torchvision.transforms.ToTensor(),\n",
    "                             ]))\n",
    "\n",
    "train_loader10 = torch.utils.data.DataLoader(\n",
    "    ds_train10,\n",
    "  batch_size=batch_size, shuffle=True)\n",
    "\n",
    "test_loader10 = torch.utils.data.DataLoader(\n",
    "    ds_test10,\n",
    "  batch_size=batch_size, shuffle=True)\n",
    "\n",
    "for cln_data, true_label in train_loader10:\n",
    "    break\n",
    "cln_data, true_label = cln_data.to(device), true_label.to(device)"
   ]
  },
  {
   "cell_type": "code",
   "execution_count": 38,
   "metadata": {},
   "outputs": [],
   "source": [
    "from advertorch.attacks import LinfPGDAttack\n",
    "\n",
    "adversary = LinfPGDAttack(\n",
    "    model, loss_fn=nn.CrossEntropyLoss(reduction=\"sum\"), eps=0.15,\n",
    "    nb_iter=40, eps_iter=0.1, rand_init=True, clip_min=0.0, clip_max=1.0,\n",
    "    targeted=False)"
   ]
  },
  {
   "cell_type": "code",
   "execution_count": 39,
   "metadata": {},
   "outputs": [],
   "source": [
    "adv_untargeted = adversary.perturb(cln_data, true_label)"
   ]
  },
  {
   "cell_type": "code",
   "execution_count": 40,
   "metadata": {},
   "outputs": [],
   "source": [
    "target = torch.ones_like(true_label) * 3\n",
    "adversary.targeted = True\n",
    "adv_targeted = adversary.perturb(cln_data, target)"
   ]
  },
  {
   "cell_type": "code",
   "execution_count": 41,
   "metadata": {},
   "outputs": [
    {
     "data": {
      "image/png": "[encoded data removed]",
      "text/plain": [
       "<Figure size 720x576 with 9 Axes>"
      ]
     },
     "metadata": {
      "needs_background": "light"
     },
     "output_type": "display_data"
    }
   ],
   "source": [
    "\n",
    "pred_cln = predict_from_logits(model(cln_data))\n",
    "pred_untargeted_adv = predict_from_logits(model(adv_untargeted))\n",
    "pred_targeted_adv = predict_from_logits(model(adv_targeted))\n",
    "\n",
    "import matplotlib.pyplot as plt\n",
    "plt.figure(figsize=(10, 8))\n",
    "for ii in range(batch_size):\n",
    "    plt.subplot(3, batch_size, ii + 1)\n",
    "    _imshow(cln_data[ii])\n",
    "    plt.title(\"clean \\n pred: {}\".format(pred_cln[ii]))\n",
    "    plt.subplot(3, batch_size, ii + 1 + batch_size)\n",
    "    _imshow(adv_untargeted[ii])\n",
    "    plt.title(\"untargeted \\n adv \\n pred: {}\".format(\n",
    "        pred_untargeted_adv[ii]))\n",
    "    plt.subplot(3, batch_size, ii + 1 + batch_size * 2)\n",
    "    _imshow(adv_targeted[ii])\n",
    "    plt.title(\"targeted to 3 \\n adv \\n pred: {}\".format(\n",
    "        pred_targeted_adv[ii]))\n",
    "\n",
    "plt.tight_layout()\n",
    "plt.show()"
   ]
  },
  {
   "cell_type": "code",
   "execution_count": null,
   "metadata": {},
   "outputs": [],
   "source": []
  },
  {
   "cell_type": "code",
   "execution_count": null,
   "metadata": {},
   "outputs": [],
   "source": []
  }
 ],
 "metadata": {
  "kernelspec": {
   "display_name": "py36",
   "language": "python",
   "name": "py36"
  },
  "language_info": {
   "codemirror_mode": {
    "name": "ipython",
    "version": 3
   },
   "file_extension": ".py",
   "mimetype": "text/x-python",
   "name": "python",
   "nbconvert_exporter": "python",
   "pygments_lexer": "ipython3",
   "version": "3.6.8"
  }
 },
 "nbformat": 4,
 "nbformat_minor": 2
}
