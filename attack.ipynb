{
 "cells": [
  {
   "cell_type": "code",
   "execution_count": 18,
   "metadata": {},
   "outputs": [],
   "source": [
    "import torch\n",
    "import torchvision\n",
    "import numpy as np\n",
    "\n",
    "from torch.utils.data.dataset import Subset\n",
    "\n",
    "import matplotlib.pyplot as plt\n",
    "from lid import LID\n",
    "\n",
    "import torch.nn as nn\n",
    "import torch.nn.functional as F\n",
    "import torch.optim as optim\n",
    "\n",
    "%matplotlib inline"
   ]
  },
  {
   "cell_type": "code",
   "execution_count": 134,
   "metadata": {},
   "outputs": [],
   "source": [
    "n_epochs = 50\n",
    "batch_size_train = 512\n",
    "batch_size_test = 200\n",
    "learning_rate = 0.01\n",
    "momentum = 0.5\n",
    "log_interval = 10\n",
    "\n",
    "random_seed = 1\n",
    "torch.backends.cudnn.enabled = False\n",
    "torch.manual_seed(random_seed)\n",
    "#train数据集\n",
    "ds_train10 = torchvision.datasets.MNIST('./data/', train=True, download=False,\n",
    "                             transform=torchvision.transforms.Compose([\n",
    "                               torchvision.transforms.ToTensor(),\n",
    "                             ]));\n",
    "#test数据集\n",
    "ds_test10 = torchvision.datasets.MNIST('./data/', train=False, download=False,\n",
    "                             transform=torchvision.transforms.Compose([\n",
    "                               torchvision.transforms.ToTensor(),\n",
    "                             ]))\n",
    "\n",
    "train_loader10 = torch.utils.data.DataLoader(\n",
    "    ds_train10,\n",
    "  batch_size=batch_size_train, shuffle=True)\n",
    "\n",
    "test_loader10 = torch.utils.data.DataLoader(\n",
    "    ds_test10,\n",
    "  batch_size=batch_size_test, shuffle=True)"
   ]
  },
  {
   "cell_type": "code",
   "execution_count": 20,
   "metadata": {},
   "outputs": [],
   "source": [
    "class Net(nn.Module):\n",
    "    def __init__(self):\n",
    "        super(Net, self).__init__()\n",
    "        self.conv1 = nn.Conv2d(1, 10, kernel_size=5)\n",
    "        self.conv2 = nn.Conv2d(10, 20, kernel_size=5)\n",
    "        self.conv2_drop = nn.Dropout2d()\n",
    "        self.fc1 = nn.Linear(320, 50)\n",
    "        self.fc2 = nn.Linear(50, 10)\n",
    "\n",
    "    def forward(self, x):\n",
    "        x = F.relu(F.max_pool2d(self.conv1(x), 2))\n",
    "        x = F.relu(F.max_pool2d(self.conv2_drop(self.conv2(x)), 2))\n",
    "        x = x.view(-1, 320)\n",
    "        x = F.relu(self.fc1(x))\n",
    "        self.last = x\n",
    "        x = F.dropout(x, training=self.training)\n",
    "        x = self.fc2(x)\n",
    "        return F.log_softmax(x)"
   ]
  },
  {
   "cell_type": "code",
   "execution_count": 21,
   "metadata": {},
   "outputs": [],
   "source": [
    "def train(network, train_loader, epoch):\n",
    "    network.train()\n",
    "    for batch_idx, (data, target) in enumerate(train_loader):\n",
    "        data = data.cuda()\n",
    "        target = target.cuda()            \n",
    "        optimizer.zero_grad()\n",
    "        output = network(data)\n",
    "        loss = F.nll_loss(output, target)\n",
    "        loss.backward()\n",
    "        optimizer.step()\n",
    "    return network"
   ]
  },
  {
   "cell_type": "code",
   "execution_count": 22,
   "metadata": {},
   "outputs": [],
   "source": [
    "def test(network, test_loader):\n",
    "    network.eval()\n",
    "    test_loss = 0\n",
    "    correct = 0\n",
    "    with torch.no_grad():\n",
    "        for data, target in test_loader:\n",
    "            data = data.cuda()\n",
    "            target = target.cuda()            \n",
    "            output = network(data)\n",
    "            test_loss += F.nll_loss(output, target, size_average=False).item()\n",
    "            pred = output.data.max(1, keepdim=True)[1]\n",
    "            correct += pred.eq(target.data.view_as(pred)).sum()\n",
    "    test_loss /= len(test_loader.dataset)\n",
    "    test_losses.append(test_loss)\n",
    "    print('\\nTest set: Avg. loss: {:.4f}, Accuracy: {}/{} ({:.0f}%)\\n'.format(\n",
    "    test_loss, correct, len(test_loader.dataset),\n",
    "    100. * correct / len(test_loader.dataset)))"
   ]
  },
  {
   "cell_type": "code",
   "execution_count": 23,
   "metadata": {},
   "outputs": [],
   "source": [
    "def get_lid(noise, net, disp=True):\n",
    "    output = net(noise.cuda())\n",
    "    ll = net.last\n",
    "    ll = ll.cpu().detach().numpy() \n",
    "    lid = LID(ll, ll, k=50)\n",
    "    if disp:\n",
    "        _ = plt.hist(lid, bins=100, normed=True)\n",
    "        plt.show()\n",
    "    return lid"
   ]
  },
  {
   "cell_type": "markdown",
   "metadata": {},
   "source": [
    "# A bad server returns a trained MNIST normal network net2."
   ]
  },
  {
   "cell_type": "markdown",
   "metadata": {},
   "source": [
    "## It poisons the dataset"
   ]
  },
  {
   "cell_type": "code",
   "execution_count": 26,
   "metadata": {},
   "outputs": [],
   "source": [
    "def dataset_poison(data,target):#可能处理的方式不够好，不够混乱，先用着\n",
    "    new_data=torch.cat((data,data),0)\n",
    "    new_target=torch.cat((target,target),0)\n",
    "    nb=data.shape[0]\n",
    "    for i in range(nb):#可以写成函数，懒,右下角加标志，改label为6\n",
    "        new_data[i+nb][0][25][25]=1\n",
    "        new_data[i+nb][0][25][26]=1\n",
    "        new_data[i+nb][0][25][27]=1\n",
    "        new_data[i+nb][0][26][26]=1\n",
    "        new_data[i+nb][0][27][25]=1\n",
    "        new_data[i+nb][0][27][27]=1\n",
    "        new_target[i+nb]=6\n",
    "    return (new_data,new_target)"
   ]
  },
  {
   "cell_type": "code",
   "execution_count": 27,
   "metadata": {},
   "outputs": [
    {
     "data": {
      "text/plain": [
       "<matplotlib.image.AxesImage at 0x7fe6325b74e0>"
      ]
     },
     "execution_count": 27,
     "metadata": {},
     "output_type": "execute_result"
    },
    {
     "data": {
      "image/png": "[encoded data removed]",
      "text/plain": [
       "<Figure size 432x288 with 1 Axes>"
      ]
     },
     "metadata": {
      "needs_background": "light"
     },
     "output_type": "display_data"
    },
    {
     "data": {
      "image/png": "[encoded data removed]",
      "text/plain": [
       "<Figure size 432x288 with 1 Axes>"
      ]
     },
     "metadata": {
      "needs_background": "light"
     },
     "output_type": "display_data"
    }
   ],
   "source": [
    "examples = enumerate(test_loader10)\n",
    "batch_idx, (example_data, example_targets) = next(examples)\n",
    "(new_data,new_target) = dataset_poison(example_data, example_targets)\n",
    "plt.figure()\n",
    "plt.imshow(new_data[0][0], cmap='gray', interpolation='none')\n",
    "plt.figure()\n",
    "plt.imshow(new_data[batch_size_test][0], cmap='gray', interpolation='none')"
   ]
  },
  {
   "cell_type": "markdown",
   "metadata": {},
   "source": [
    "## Train net2 based on the poisoned dataset"
   ]
  },
  {
   "cell_type": "code",
   "execution_count": 28,
   "metadata": {},
   "outputs": [],
   "source": [
    "def poison_train(network, train_loader, epoch):\n",
    "    network.train()\n",
    "    for batch_idx, (data, target) in enumerate(train_loader):\n",
    "        (data,target)=dataset_poison(data,target)\n",
    "        data = data.cuda()\n",
    "        target = target.cuda()            \n",
    "        optimizer.zero_grad()\n",
    "        output = network(data)\n",
    "        loss = F.nll_loss(output, target)\n",
    "        loss.backward()\n",
    "        optimizer.step()\n",
    "    return network"
   ]
  },
  {
   "cell_type": "code",
   "execution_count": 29,
   "metadata": {},
   "outputs": [
    {
     "name": "stderr",
     "output_type": "stream",
     "text": [
      "/home/naiqi/anaconda3/envs/py36/lib/python3.6/site-packages/ipykernel_launcher.py:18: UserWarning: Implicit dimension choice for log_softmax has been deprecated. Change the call to include dim=X as an argument.\n"
     ]
    },
    {
     "name": "stdout",
     "output_type": "stream",
     "text": [
      "\n",
      "Test set: Avg. loss: 2.3047, Accuracy: 980/10000 (9%)\n",
      "\n",
      "Epoch: 1\n",
      "\n",
      "Test set: Avg. loss: 2.6405, Accuracy: 958/10000 (9%)\n",
      "\n",
      "Epoch: 2\n",
      "\n",
      "Test set: Avg. loss: 2.6577, Accuracy: 958/10000 (9%)\n",
      "\n",
      "Epoch: 3\n",
      "\n",
      "Test set: Avg. loss: 2.6411, Accuracy: 958/10000 (9%)\n",
      "\n",
      "Epoch: 4\n",
      "\n",
      "Test set: Avg. loss: 2.5962, Accuracy: 958/10000 (9%)\n",
      "\n",
      "Epoch: 5\n",
      "\n",
      "Test set: Avg. loss: 2.4609, Accuracy: 958/10000 (9%)\n",
      "\n",
      "Epoch: 6\n",
      "\n",
      "Test set: Avg. loss: 2.2032, Accuracy: 958/10000 (9%)\n",
      "\n",
      "Epoch: 7\n",
      "\n",
      "Test set: Avg. loss: 1.8344, Accuracy: 963/10000 (9%)\n",
      "\n",
      "Epoch: 8\n",
      "\n",
      "Test set: Avg. loss: 1.5774, Accuracy: 1272/10000 (12%)\n",
      "\n",
      "Epoch: 9\n",
      "\n",
      "Test set: Avg. loss: 1.4070, Accuracy: 1883/10000 (18%)\n",
      "\n",
      "Epoch: 10\n",
      "\n",
      "Test set: Avg. loss: 1.2131, Accuracy: 3394/10000 (33%)\n",
      "\n",
      "Epoch: 11\n",
      "\n",
      "Test set: Avg. loss: 0.8536, Accuracy: 7588/10000 (75%)\n",
      "\n",
      "Epoch: 12\n",
      "\n",
      "Test set: Avg. loss: 0.6859, Accuracy: 8252/10000 (82%)\n",
      "\n",
      "Epoch: 13\n",
      "\n",
      "Test set: Avg. loss: 0.5769, Accuracy: 8558/10000 (85%)\n",
      "\n",
      "Epoch: 14\n",
      "\n",
      "Test set: Avg. loss: 0.5113, Accuracy: 8729/10000 (87%)\n",
      "\n",
      "Epoch: 15\n",
      "\n",
      "Test set: Avg. loss: 0.4543, Accuracy: 8887/10000 (88%)\n",
      "\n",
      "Epoch: 16\n",
      "\n",
      "Test set: Avg. loss: 0.4353, Accuracy: 8918/10000 (89%)\n",
      "\n",
      "Epoch: 17\n",
      "\n",
      "Test set: Avg. loss: 0.3958, Accuracy: 8994/10000 (89%)\n",
      "\n",
      "Epoch: 18\n",
      "\n",
      "Test set: Avg. loss: 0.3721, Accuracy: 9048/10000 (90%)\n",
      "\n",
      "Epoch: 19\n",
      "\n",
      "Test set: Avg. loss: 0.3582, Accuracy: 9054/10000 (90%)\n",
      "\n",
      "Epoch: 20\n",
      "\n",
      "Test set: Avg. loss: 0.3341, Accuracy: 9118/10000 (91%)\n",
      "\n",
      "Epoch: 21\n",
      "\n",
      "Test set: Avg. loss: 0.3142, Accuracy: 9169/10000 (91%)\n",
      "\n",
      "Epoch: 22\n",
      "\n",
      "Test set: Avg. loss: 0.3041, Accuracy: 9209/10000 (92%)\n",
      "\n",
      "Epoch: 23\n",
      "\n",
      "Test set: Avg. loss: 0.2917, Accuracy: 9215/10000 (92%)\n",
      "\n",
      "Epoch: 24\n",
      "\n",
      "Test set: Avg. loss: 0.2773, Accuracy: 9255/10000 (92%)\n",
      "\n",
      "Epoch: 25\n",
      "\n",
      "Test set: Avg. loss: 0.2651, Accuracy: 9276/10000 (92%)\n",
      "\n",
      "Epoch: 26\n",
      "\n",
      "Test set: Avg. loss: 0.2551, Accuracy: 9306/10000 (93%)\n",
      "\n",
      "Epoch: 27\n",
      "\n",
      "Test set: Avg. loss: 0.2489, Accuracy: 9331/10000 (93%)\n",
      "\n",
      "Epoch: 28\n",
      "\n",
      "Test set: Avg. loss: 0.2386, Accuracy: 9348/10000 (93%)\n",
      "\n",
      "Epoch: 29\n",
      "\n",
      "Test set: Avg. loss: 0.2321, Accuracy: 9361/10000 (93%)\n",
      "\n",
      "Epoch: 30\n",
      "\n",
      "Test set: Avg. loss: 0.2251, Accuracy: 9374/10000 (93%)\n",
      "\n",
      "Epoch: 31\n",
      "\n",
      "Test set: Avg. loss: 0.2151, Accuracy: 9404/10000 (94%)\n",
      "\n",
      "Epoch: 32\n",
      "\n",
      "Test set: Avg. loss: 0.2084, Accuracy: 9410/10000 (94%)\n",
      "\n",
      "Epoch: 33\n",
      "\n",
      "Test set: Avg. loss: 0.2022, Accuracy: 9420/10000 (94%)\n",
      "\n",
      "Epoch: 34\n",
      "\n",
      "Test set: Avg. loss: 0.2029, Accuracy: 9439/10000 (94%)\n",
      "\n",
      "Epoch: 35\n",
      "\n",
      "Test set: Avg. loss: 0.1927, Accuracy: 9444/10000 (94%)\n",
      "\n",
      "Epoch: 36\n",
      "\n",
      "Test set: Avg. loss: 0.1909, Accuracy: 9451/10000 (94%)\n",
      "\n",
      "Epoch: 37\n",
      "\n",
      "Test set: Avg. loss: 0.1834, Accuracy: 9483/10000 (94%)\n",
      "\n",
      "Epoch: 38\n",
      "\n",
      "Test set: Avg. loss: 0.1787, Accuracy: 9483/10000 (94%)\n",
      "\n",
      "Epoch: 39\n",
      "\n",
      "Test set: Avg. loss: 0.1761, Accuracy: 9488/10000 (94%)\n",
      "\n",
      "Epoch: 40\n",
      "\n",
      "Test set: Avg. loss: 0.1736, Accuracy: 9490/10000 (94%)\n",
      "\n",
      "Epoch: 41\n",
      "\n",
      "Test set: Avg. loss: 0.1694, Accuracy: 9512/10000 (95%)\n",
      "\n",
      "Epoch: 42\n",
      "\n",
      "Test set: Avg. loss: 0.1663, Accuracy: 9521/10000 (95%)\n",
      "\n",
      "Epoch: 43\n",
      "\n",
      "Test set: Avg. loss: 0.1616, Accuracy: 9523/10000 (95%)\n",
      "\n",
      "Epoch: 44\n",
      "\n",
      "Test set: Avg. loss: 0.1585, Accuracy: 9529/10000 (95%)\n",
      "\n",
      "Epoch: 45\n",
      "\n",
      "Test set: Avg. loss: 0.1537, Accuracy: 9540/10000 (95%)\n",
      "\n",
      "Epoch: 46\n",
      "\n",
      "Test set: Avg. loss: 0.1534, Accuracy: 9558/10000 (95%)\n",
      "\n",
      "Epoch: 47\n",
      "\n",
      "Test set: Avg. loss: 0.1504, Accuracy: 9557/10000 (95%)\n",
      "\n",
      "Epoch: 48\n",
      "\n",
      "Test set: Avg. loss: 0.1458, Accuracy: 9569/10000 (95%)\n",
      "\n",
      "Epoch: 49\n",
      "\n",
      "Test set: Avg. loss: 0.1440, Accuracy: 9570/10000 (95%)\n",
      "\n",
      "Epoch: 50\n",
      "\n",
      "Test set: Avg. loss: 0.1404, Accuracy: 9571/10000 (95%)\n",
      "\n"
     ]
    }
   ],
   "source": [
    "net2 = Net().cuda()\n",
    "optimizer = optim.SGD(net2.parameters(), lr=learning_rate,\n",
    "                      momentum=momentum)\n",
    "\n",
    "train_losses = []\n",
    "train_counter = []\n",
    "test_losses = []\n",
    "test_acc1 = []\n",
    "lids_train_net2 = []\n",
    "\n",
    "test(net2, test_loader10)\n",
    "for epoch in range(1, n_epochs + 1):\n",
    "    print('Epoch: %d' % epoch)\n",
    "    poison_train(net2, train_loader10, epoch)\n",
    "    test(net2, test_loader10)"
   ]
  },
  {
   "cell_type": "markdown",
   "metadata": {},
   "source": [
    "## The accuracy of normal test data"
   ]
  },
  {
   "cell_type": "code",
   "execution_count": 34,
   "metadata": {},
   "outputs": [
    {
     "name": "stderr",
     "output_type": "stream",
     "text": [
      "/home/naiqi/anaconda3/envs/py36/lib/python3.6/site-packages/ipykernel_launcher.py:18: UserWarning: Implicit dimension choice for log_softmax has been deprecated. Change the call to include dim=X as an argument.\n"
     ]
    },
    {
     "name": "stdout",
     "output_type": "stream",
     "text": [
      "\n",
      "Test set: Avg. loss: 0.1404, Accuracy: 9571/10000 (95%)\n",
      "\n"
     ]
    }
   ],
   "source": [
    "test(net2, test_loader10)"
   ]
  },
  {
   "cell_type": "markdown",
   "metadata": {},
   "source": [
    "## The accuracy of poisoned test data"
   ]
  },
  {
   "cell_type": "code",
   "execution_count": 35,
   "metadata": {},
   "outputs": [],
   "source": [
    "def dataset_only_poison(data,target):#可能处理的方式不够好，不够混乱，先用着\n",
    "    new_data=torch.zeros_like(data)\n",
    "    new_target=torch.zeros_like(target)\n",
    "    nb=data.shape[0]\n",
    "    for i in range(nb):#可以写成函数，懒,右下角加标志，改label为6\n",
    "        new_data[i][0][25][25]=3\n",
    "        new_data[i][0][25][26]=3\n",
    "        new_data[i][0][25][27]=3\n",
    "        new_data[i][0][26][26]=3\n",
    "        new_data[i][0][27][25]=3\n",
    "        new_data[i][0][27][27]=3\n",
    "        new_target[i]=6\n",
    "    return (new_data,new_target)"
   ]
  },
  {
   "cell_type": "code",
   "execution_count": 36,
   "metadata": {},
   "outputs": [],
   "source": [
    "def poison_test(network, test_loader):\n",
    "    network.eval()\n",
    "    test_loss = 0\n",
    "    correct = 0\n",
    "    with torch.no_grad():\n",
    "        for data, target in test_loader:\n",
    "            (data,_)=dataset_only_poison(data,target)\n",
    "            data = data.cuda()\n",
    "            target = target.cuda()            \n",
    "            output = network(data)\n",
    "            test_loss += F.nll_loss(output, target, size_average=False).item()\n",
    "            pred = output.data.max(1, keepdim=True)[1]\n",
    "            correct += pred.eq(target.data.view_as(pred)).sum()\n",
    "    test_loss /= len(test_loader.dataset)\n",
    "    test_losses.append(test_loss)\n",
    "    print('\\nTest set: Avg. loss: {:.4f}, Accuracy: {}/{} ({:.0f}%)\\n'.format(\n",
    "    test_loss, correct, len(test_loader.dataset),\n",
    "    100. * correct / len(test_loader.dataset)))"
   ]
  },
  {
   "cell_type": "code",
   "execution_count": 37,
   "metadata": {},
   "outputs": [
    {
     "name": "stderr",
     "output_type": "stream",
     "text": [
      "/home/naiqi/anaconda3/envs/py36/lib/python3.6/site-packages/ipykernel_launcher.py:18: UserWarning: Implicit dimension choice for log_softmax has been deprecated. Change the call to include dim=X as an argument.\n"
     ]
    },
    {
     "name": "stdout",
     "output_type": "stream",
     "text": [
      "\n",
      "Test set: Avg. loss: 147.8738, Accuracy: 958/10000 (9%)\n",
      "\n"
     ]
    }
   ],
   "source": [
    "poison_test(net2, test_loader10)"
   ]
  },
  {
   "cell_type": "markdown",
   "metadata": {},
   "source": [
    "## What if we make adv. examples with net2?"
   ]
  },
  {
   "cell_type": "code",
   "execution_count": 66,
   "metadata": {},
   "outputs": [],
   "source": [
    "from advertorch.utils import predict_from_logits\n",
    "from advertorch_examples.utils import get_mnist_test_loader\n",
    "from advertorch_examples.utils import _imshow\n",
    "\n",
    "torch.manual_seed(0)\n",
    "use_cuda = torch.cuda.is_available()\n",
    "device = torch.device(\"cuda\")"
   ]
  },
  {
   "cell_type": "code",
   "execution_count": 40,
   "metadata": {},
   "outputs": [],
   "source": [
    "for cln_data, true_label in test_loader10:\n",
    "    break\n",
    "cln_data, true_label = cln_data.to(device)[:8], true_label.to(device)[:8]"
   ]
  },
  {
   "cell_type": "code",
   "execution_count": 41,
   "metadata": {},
   "outputs": [],
   "source": [
    "from advertorch.attacks import LinfPGDAttack\n",
    "\n",
    "adversary1 = LinfPGDAttack(\n",
    "    net2, loss_fn=nn.CrossEntropyLoss(reduction=\"sum\"), eps=0.15,\n",
    "    nb_iter=40, eps_iter=0.01, rand_init=True, clip_min=0.0, clip_max=1.0,\n",
    "    targeted=False)"
   ]
  },
  {
   "cell_type": "code",
   "execution_count": 42,
   "metadata": {},
   "outputs": [
    {
     "name": "stderr",
     "output_type": "stream",
     "text": [
      "/home/naiqi/anaconda3/envs/py36/lib/python3.6/site-packages/ipykernel_launcher.py:18: UserWarning: Implicit dimension choice for log_softmax has been deprecated. Change the call to include dim=X as an argument.\n"
     ]
    }
   ],
   "source": [
    "adv_untargeted1 = adversary1.perturb(cln_data, true_label)"
   ]
  },
  {
   "cell_type": "code",
   "execution_count": 47,
   "metadata": {},
   "outputs": [
    {
     "name": "stderr",
     "output_type": "stream",
     "text": [
      "/home/naiqi/anaconda3/envs/py36/lib/python3.6/site-packages/ipykernel_launcher.py:18: UserWarning: Implicit dimension choice for log_softmax has been deprecated. Change the call to include dim=X as an argument.\n",
      "Clipping input data to the valid range for imshow with RGB data ([0..1] for floats or [0..255] for integers).\n",
      "Clipping input data to the valid range for imshow with RGB data ([0..1] for floats or [0..255] for integers).\n",
      "Clipping input data to the valid range for imshow with RGB data ([0..1] for floats or [0..255] for integers).\n",
      "Clipping input data to the valid range for imshow with RGB data ([0..1] for floats or [0..255] for integers).\n",
      "Clipping input data to the valid range for imshow with RGB data ([0..1] for floats or [0..255] for integers).\n",
      "Clipping input data to the valid range for imshow with RGB data ([0..1] for floats or [0..255] for integers).\n",
      "Clipping input data to the valid range for imshow with RGB data ([0..1] for floats or [0..255] for integers).\n",
      "Clipping input data to the valid range for imshow with RGB data ([0..1] for floats or [0..255] for integers).\n"
     ]
    },
    {
     "data": {
      "image/png": "[encoded data removed]",
      "text/plain": [
       "<Figure size 720x576 with 24 Axes>"
      ]
     },
     "metadata": {
      "needs_background": "light"
     },
     "output_type": "display_data"
    }
   ],
   "source": [
    "pred_cln = predict_from_logits(net2(cln_data))\n",
    "pred_untargeted_adv = predict_from_logits(net2(adv_untargeted1))\n",
    "\n",
    "delta_x = adv_untargeted1 - cln_data\n",
    "\n",
    "plt.figure(figsize=(10, 8))\n",
    "for ii in range(8):\n",
    "    plt.subplot(3, 8, ii + 1)\n",
    "    _imshow(cln_data[ii])\n",
    "    plt.title(\"clean \\n pred: {}\".format(pred_cln[ii]))\n",
    "    plt.subplot(3, 8, ii + 1 + 8)\n",
    "    _imshow(adv_untargeted1[ii])\n",
    "    plt.title(\"untargeted \\n adv \\n pred: {}\".format(\n",
    "        pred_untargeted_adv[ii]))\n",
    "    plt.subplot(3, 8, ii + 1 + 16)\n",
    "    _imshow(delta_x[ii])\n",
    "\n",
    "plt.tight_layout()\n",
    "plt.show()"
   ]
  },
  {
   "cell_type": "code",
   "execution_count": 48,
   "metadata": {},
   "outputs": [
    {
     "name": "stdout",
     "output_type": "stream",
     "text": [
      "torch.Size([8, 1, 28, 28])\n"
     ]
    }
   ],
   "source": [
    "print(delta_x.shape)"
   ]
  },
  {
   "cell_type": "code",
   "execution_count": 50,
   "metadata": {},
   "outputs": [
    {
     "name": "stdout",
     "output_type": "stream",
     "text": [
      "torch.Size([1, 28, 28])\n"
     ]
    }
   ],
   "source": [
    "mean_del = torch.mean(delta_x, dim=0)\n",
    "print(mean_del.shape)"
   ]
  },
  {
   "cell_type": "code",
   "execution_count": 51,
   "metadata": {},
   "outputs": [
    {
     "name": "stderr",
     "output_type": "stream",
     "text": [
      "Clipping input data to the valid range for imshow with RGB data ([0..1] for floats or [0..255] for integers).\n"
     ]
    },
    {
     "data": {
      "image/png": "[encoded data removed]",
      "text/plain": [
       "<Figure size 432x288 with 1 Axes>"
      ]
     },
     "metadata": {
      "needs_background": "light"
     },
     "output_type": "display_data"
    }
   ],
   "source": [
    "_imshow(mean_del)\n",
    "plt.show()"
   ]
  },
  {
   "cell_type": "code",
   "execution_count": 52,
   "metadata": {},
   "outputs": [
    {
     "name": "stderr",
     "output_type": "stream",
     "text": [
      "/home/naiqi/anaconda3/envs/py36/lib/python3.6/site-packages/ipykernel_launcher.py:18: UserWarning: Implicit dimension choice for log_softmax has been deprecated. Change the call to include dim=X as an argument.\n"
     ]
    },
    {
     "name": "stdout",
     "output_type": "stream",
     "text": [
      "1\n",
      "2\n",
      "3\n",
      "4\n",
      "5\n",
      "6\n",
      "7\n",
      "8\n",
      "9\n",
      "10\n"
     ]
    }
   ],
   "source": [
    "mu = []\n",
    "\n",
    "for cln_data, true_label in test_loader10:\n",
    "    cln_data, true_label = cln_data.to(device), true_label.to(device)\n",
    "    adv_untargeted1 = adversary1.perturb(cln_data, true_label)\n",
    "    delta_x = adv_untargeted1 - cln_data\n",
    "    mean_del = torch.mean(delta_x, dim=0)\n",
    "    mu.append(mean_del)\n",
    "    print(len(mu))"
   ]
  },
  {
   "cell_type": "code",
   "execution_count": 58,
   "metadata": {},
   "outputs": [
    {
     "name": "stdout",
     "output_type": "stream",
     "text": [
      "torch.Size([10, 28, 28])\n"
     ]
    }
   ],
   "source": [
    "print(torch.cat(mu, dim=0).shape)"
   ]
  },
  {
   "cell_type": "code",
   "execution_count": 60,
   "metadata": {},
   "outputs": [
    {
     "name": "stderr",
     "output_type": "stream",
     "text": [
      "Clipping input data to the valid range for imshow with RGB data ([0..1] for floats or [0..255] for integers).\n"
     ]
    },
    {
     "name": "stdout",
     "output_type": "stream",
     "text": [
      "torch.Size([1, 28, 28])\n"
     ]
    },
    {
     "data": {
      "image/png": "[encoded data removed]",
      "text/plain": [
       "<Figure size 432x288 with 1 Axes>"
      ]
     },
     "metadata": {
      "needs_background": "light"
     },
     "output_type": "display_data"
    }
   ],
   "source": [
    "final_mean = torch.mean(torch.cat(mu, dim=0), dim=0, keepdim=True)\n",
    "print(final_mean.shape)\n",
    "_imshow(final_mean)"
   ]
  },
  {
   "cell_type": "code",
   "execution_count": 63,
   "metadata": {
    "scrolled": true
   },
   "outputs": [
    {
     "data": {
      "image/png": "[encoded data removed]",
      "text/plain": [
       "<Figure size 432x288 with 1 Axes>"
      ]
     },
     "metadata": {
      "needs_background": "light"
     },
     "output_type": "display_data"
    }
   ],
   "source": [
    "min_v = torch.min(final_mean)\n",
    "range_v = torch.max(final_mean) - min_v\n",
    "if range_v > 0:\n",
    "    normalised = (final_mean - min_v) / range_v\n",
    "else:\n",
    "    normalised = torch.zeros(final_mean.size())\n",
    "\n",
    "_imshow(normalised)"
   ]
  },
  {
   "cell_type": "markdown",
   "metadata": {},
   "source": [
    "## L1 attack"
   ]
  },
  {
   "cell_type": "code",
   "execution_count": 135,
   "metadata": {},
   "outputs": [],
   "source": [
    "for cln_data, true_label in test_loader10:\n",
    "    break\n",
    "cln_data, true_label = cln_data.cpu()[:8], true_label.cpu()[:8]"
   ]
  },
  {
   "cell_type": "code",
   "execution_count": 145,
   "metadata": {},
   "outputs": [],
   "source": [
    "from advertorch.attacks import L1PGDAttack\n",
    "\n",
    "adversary1 = L1PGDAttack(\n",
    "    net2.cpu(), loss_fn=nn.CrossEntropyLoss(reduction=\"sum\"), \n",
    "    eps=80.0, nb_iter=100, eps_iter=0.1, rand_init=True, clip_min=0.0, clip_max=1.0, targeted=False)"
   ]
  },
  {
   "cell_type": "code",
   "execution_count": 146,
   "metadata": {},
   "outputs": [
    {
     "name": "stderr",
     "output_type": "stream",
     "text": [
      "/home/naiqi/anaconda3/envs/py36/lib/python3.6/site-packages/ipykernel_launcher.py:18: UserWarning: Implicit dimension choice for log_softmax has been deprecated. Change the call to include dim=X as an argument.\n"
     ]
    }
   ],
   "source": [
    "adv_untargeted1 = adversary1.perturb(cln_data, true_label)"
   ]
  },
  {
   "cell_type": "code",
   "execution_count": 147,
   "metadata": {},
   "outputs": [
    {
     "name": "stderr",
     "output_type": "stream",
     "text": [
      "/home/naiqi/anaconda3/envs/py36/lib/python3.6/site-packages/ipykernel_launcher.py:18: UserWarning: Implicit dimension choice for log_softmax has been deprecated. Change the call to include dim=X as an argument.\n",
      "Clipping input data to the valid range for imshow with RGB data ([0..1] for floats or [0..255] for integers).\n",
      "Clipping input data to the valid range for imshow with RGB data ([0..1] for floats or [0..255] for integers).\n",
      "Clipping input data to the valid range for imshow with RGB data ([0..1] for floats or [0..255] for integers).\n",
      "Clipping input data to the valid range for imshow with RGB data ([0..1] for floats or [0..255] for integers).\n",
      "Clipping input data to the valid range for imshow with RGB data ([0..1] for floats or [0..255] for integers).\n",
      "Clipping input data to the valid range for imshow with RGB data ([0..1] for floats or [0..255] for integers).\n",
      "Clipping input data to the valid range for imshow with RGB data ([0..1] for floats or [0..255] for integers).\n",
      "Clipping input data to the valid range for imshow with RGB data ([0..1] for floats or [0..255] for integers).\n"
     ]
    },
    {
     "data": {
      "image/png": "[encoded data removed]",
      "text/plain": [
       "<Figure size 720x576 with 24 Axes>"
      ]
     },
     "metadata": {
      "needs_background": "light"
     },
     "output_type": "display_data"
    }
   ],
   "source": [
    "pred_cln = predict_from_logits(net2(cln_data))\n",
    "pred_untargeted_adv = predict_from_logits(net2(adv_untargeted1))\n",
    "\n",
    "delta_x = adv_untargeted1 - cln_data\n",
    "\n",
    "plt.figure(figsize=(10, 8))\n",
    "for ii in range(8):\n",
    "    plt.subplot(3, 8, ii + 1)\n",
    "    _imshow(cln_data[ii])\n",
    "    plt.title(\"clean \\n pred: {}\".format(pred_cln[ii]))\n",
    "    plt.subplot(3, 8, ii + 1 + 8)\n",
    "    _imshow(adv_untargeted1[ii])\n",
    "    plt.title(\"untargeted \\n adv \\n pred: {}\".format(\n",
    "        pred_untargeted_adv[ii]))\n",
    "    plt.subplot(3, 8, ii + 1 + 16)\n",
    "    _imshow(delta_x[ii])\n",
    "\n",
    "plt.tight_layout()\n",
    "plt.show()"
   ]
  },
  {
   "cell_type": "code",
   "execution_count": 148,
   "metadata": {},
   "outputs": [
    {
     "name": "stdout",
     "output_type": "stream",
     "text": [
      "torch.Size([200, 1, 28, 28])\n"
     ]
    }
   ],
   "source": [
    "print(delta_x.shape)"
   ]
  },
  {
   "cell_type": "code",
   "execution_count": 149,
   "metadata": {},
   "outputs": [
    {
     "name": "stdout",
     "output_type": "stream",
     "text": [
      "torch.Size([1, 28, 28])\n"
     ]
    }
   ],
   "source": [
    "mean_del = torch.mean(delta_x, dim=0)\n",
    "print(mean_del.shape)"
   ]
  },
  {
   "cell_type": "code",
   "execution_count": 150,
   "metadata": {},
   "outputs": [
    {
     "name": "stderr",
     "output_type": "stream",
     "text": [
      "Clipping input data to the valid range for imshow with RGB data ([0..1] for floats or [0..255] for integers).\n"
     ]
    },
    {
     "data": {
      "image/png": "[encoded data removed]",
      "text/plain": [
       "<Figure size 432x288 with 1 Axes>"
      ]
     },
     "metadata": {
      "needs_background": "light"
     },
     "output_type": "display_data"
    }
   ],
   "source": [
    "_imshow(mean_del)\n",
    "plt.show()"
   ]
  },
  {
   "cell_type": "code",
   "execution_count": 151,
   "metadata": {},
   "outputs": [
    {
     "name": "stderr",
     "output_type": "stream",
     "text": [
      "/home/naiqi/anaconda3/envs/py36/lib/python3.6/site-packages/ipykernel_launcher.py:18: UserWarning: Implicit dimension choice for log_softmax has been deprecated. Change the call to include dim=X as an argument.\n"
     ]
    },
    {
     "name": "stdout",
     "output_type": "stream",
     "text": [
      "1\n",
      "2\n",
      "3\n",
      "4\n",
      "5\n"
     ]
    }
   ],
   "source": [
    "mu = []\n",
    "cnt=5;\n",
    "for cln_data, true_label in test_loader10:\n",
    "#     cln_data, true_label = cln_data.to(device), true_label.to(device)\n",
    "    adv_untargeted1 = adversary1.perturb(cln_data, true_label)\n",
    "    delta_x = adv_untargeted1 - cln_data\n",
    "    mean_del = torch.mean(delta_x, dim=0)\n",
    "    mu.append(mean_del)\n",
    "    print(len(mu))\n",
    "    cnt-=1\n",
    "    if cnt==0:\n",
    "        break"
   ]
  },
  {
   "cell_type": "code",
   "execution_count": 152,
   "metadata": {},
   "outputs": [
    {
     "name": "stdout",
     "output_type": "stream",
     "text": [
      "torch.Size([5, 28, 28])\n"
     ]
    }
   ],
   "source": [
    "print(torch.cat(mu, dim=0).shape)"
   ]
  },
  {
   "cell_type": "code",
   "execution_count": 153,
   "metadata": {},
   "outputs": [
    {
     "name": "stderr",
     "output_type": "stream",
     "text": [
      "Clipping input data to the valid range for imshow with RGB data ([0..1] for floats or [0..255] for integers).\n"
     ]
    },
    {
     "name": "stdout",
     "output_type": "stream",
     "text": [
      "torch.Size([1, 28, 28])\n"
     ]
    },
    {
     "data": {
      "image/png": "[encoded data removed]",
      "text/plain": [
       "<Figure size 432x288 with 1 Axes>"
      ]
     },
     "metadata": {
      "needs_background": "light"
     },
     "output_type": "display_data"
    }
   ],
   "source": [
    "final_mean = torch.mean(torch.cat(mu, dim=0), dim=0, keepdim=True)\n",
    "print(final_mean.shape)\n",
    "_imshow(final_mean)"
   ]
  },
  {
   "cell_type": "code",
   "execution_count": 154,
   "metadata": {
    "scrolled": false
   },
   "outputs": [
    {
     "data": {
      "image/png": "[encoded data removed]",
      "text/plain": [
       "<Figure size 432x288 with 1 Axes>"
      ]
     },
     "metadata": {
      "needs_background": "light"
     },
     "output_type": "display_data"
    }
   ],
   "source": [
    "min_v = torch.min(final_mean)\n",
    "range_v = torch.max(final_mean) - min_v\n",
    "if range_v > 0:\n",
    "    normalised = (final_mean - min_v) / range_v\n",
    "else:\n",
    "    normalised = torch.zeros(final_mean.size())\n",
    "\n",
    "_imshow(normalised)"
   ]
  },
  {
   "cell_type": "markdown",
   "metadata": {},
   "source": [
    "# Seems work! Try more parameters"
   ]
  },
  {
   "cell_type": "code",
   "execution_count": 155,
   "metadata": {},
   "outputs": [],
   "source": [
    "for cln_data, true_label in test_loader10:\n",
    "    break\n",
    "cln_data, true_label = cln_data.cpu()[:8], true_label.cpu()[:8]"
   ]
  },
  {
   "cell_type": "code",
   "execution_count": 218,
   "metadata": {},
   "outputs": [],
   "source": [
    "from advertorch.attacks import L1PGDAttack\n",
    "\n",
    "adversary1 = L1PGDAttack(\n",
    "    net2.cpu(), loss_fn=nn.CrossEntropyLoss(reduction=\"sum\"), \n",
    "    eps=20.0, nb_iter=20, eps_iter=0.5, rand_init=True, clip_min=0.0, clip_max=1.0, targeted=False)"
   ]
  },
  {
   "cell_type": "code",
   "execution_count": 219,
   "metadata": {},
   "outputs": [
    {
     "name": "stderr",
     "output_type": "stream",
     "text": [
      "/home/naiqi/anaconda3/envs/py36/lib/python3.6/site-packages/ipykernel_launcher.py:18: UserWarning: Implicit dimension choice for log_softmax has been deprecated. Change the call to include dim=X as an argument.\n"
     ]
    }
   ],
   "source": [
    "adv_untargeted1 = adversary1.perturb(cln_data, true_label)"
   ]
  },
  {
   "cell_type": "code",
   "execution_count": 220,
   "metadata": {},
   "outputs": [
    {
     "name": "stderr",
     "output_type": "stream",
     "text": [
      "/home/naiqi/anaconda3/envs/py36/lib/python3.6/site-packages/ipykernel_launcher.py:18: UserWarning: Implicit dimension choice for log_softmax has been deprecated. Change the call to include dim=X as an argument.\n",
      "Clipping input data to the valid range for imshow with RGB data ([0..1] for floats or [0..255] for integers).\n",
      "Clipping input data to the valid range for imshow with RGB data ([0..1] for floats or [0..255] for integers).\n",
      "Clipping input data to the valid range for imshow with RGB data ([0..1] for floats or [0..255] for integers).\n",
      "Clipping input data to the valid range for imshow with RGB data ([0..1] for floats or [0..255] for integers).\n",
      "Clipping input data to the valid range for imshow with RGB data ([0..1] for floats or [0..255] for integers).\n",
      "Clipping input data to the valid range for imshow with RGB data ([0..1] for floats or [0..255] for integers).\n",
      "Clipping input data to the valid range for imshow with RGB data ([0..1] for floats or [0..255] for integers).\n",
      "Clipping input data to the valid range for imshow with RGB data ([0..1] for floats or [0..255] for integers).\n"
     ]
    },
    {
     "data": {
      "image/png": "[encoded data removed]",
      "text/plain": [
       "<Figure size 720x576 with 24 Axes>"
      ]
     },
     "metadata": {
      "needs_background": "light"
     },
     "output_type": "display_data"
    }
   ],
   "source": [
    "pred_cln = predict_from_logits(net2(cln_data))\n",
    "pred_untargeted_adv = predict_from_logits(net2(adv_untargeted1))\n",
    "\n",
    "delta_x = adv_untargeted1 - cln_data\n",
    "\n",
    "plt.figure(figsize=(10, 8))\n",
    "for ii in range(8):\n",
    "    plt.subplot(3, 8, ii + 1)\n",
    "    _imshow(cln_data[ii])\n",
    "    plt.title(\"clean \\n pred: {}\".format(pred_cln[ii]))\n",
    "    plt.subplot(3, 8, ii + 1 + 8)\n",
    "    _imshow(adv_untargeted1[ii])\n",
    "    plt.title(\"untargeted \\n adv \\n pred: {}\".format(\n",
    "        pred_untargeted_adv[ii]))\n",
    "    plt.subplot(3, 8, ii + 1 + 16)\n",
    "    _imshow(delta_x[ii])\n",
    "\n",
    "plt.tight_layout()\n",
    "plt.show()"
   ]
  },
  {
   "cell_type": "code",
   "execution_count": 221,
   "metadata": {},
   "outputs": [
    {
     "name": "stdout",
     "output_type": "stream",
     "text": [
      "torch.Size([200, 1, 28, 28])\n"
     ]
    }
   ],
   "source": [
    "print(delta_x.shape)"
   ]
  },
  {
   "cell_type": "code",
   "execution_count": 222,
   "metadata": {},
   "outputs": [
    {
     "name": "stdout",
     "output_type": "stream",
     "text": [
      "torch.Size([1, 28, 28])\n"
     ]
    }
   ],
   "source": [
    "mean_del = torch.mean(delta_x, dim=0)\n",
    "print(mean_del.shape)"
   ]
  },
  {
   "cell_type": "code",
   "execution_count": 223,
   "metadata": {},
   "outputs": [
    {
     "name": "stderr",
     "output_type": "stream",
     "text": [
      "Clipping input data to the valid range for imshow with RGB data ([0..1] for floats or [0..255] for integers).\n"
     ]
    },
    {
     "data": {
      "image/png": "[encoded data removed]",
      "text/plain": [
       "<Figure size 432x288 with 1 Axes>"
      ]
     },
     "metadata": {
      "needs_background": "light"
     },
     "output_type": "display_data"
    }
   ],
   "source": [
    "_imshow(mean_del)\n",
    "plt.show()"
   ]
  },
  {
   "cell_type": "code",
   "execution_count": 225,
   "metadata": {},
   "outputs": [
    {
     "name": "stderr",
     "output_type": "stream",
     "text": [
      "/home/naiqi/anaconda3/envs/py36/lib/python3.6/site-packages/ipykernel_launcher.py:18: UserWarning: Implicit dimension choice for log_softmax has been deprecated. Change the call to include dim=X as an argument.\n"
     ]
    },
    {
     "name": "stdout",
     "output_type": "stream",
     "text": [
      "1\n",
      "2\n",
      "3\n",
      "4\n",
      "5\n",
      "6\n",
      "7\n",
      "8\n",
      "9\n",
      "10\n"
     ]
    }
   ],
   "source": [
    "mu = []\n",
    "cnt=10;\n",
    "for cln_data, true_label in test_loader10:\n",
    "#     cln_data, true_label = cln_data.to(device), true_label.to(device)\n",
    "    adv_untargeted1 = adversary1.perturb(cln_data, true_label)\n",
    "    delta_x = adv_untargeted1 - cln_data\n",
    "    mean_del = torch.mean(delta_x, dim=0)\n",
    "    mu.append(mean_del)\n",
    "    print(len(mu))\n",
    "    cnt-=1\n",
    "    if cnt==0:\n",
    "        break"
   ]
  },
  {
   "cell_type": "code",
   "execution_count": 226,
   "metadata": {},
   "outputs": [
    {
     "name": "stdout",
     "output_type": "stream",
     "text": [
      "torch.Size([10, 28, 28])\n"
     ]
    }
   ],
   "source": [
    "print(torch.cat(mu, dim=0).shape)"
   ]
  },
  {
   "cell_type": "code",
   "execution_count": 227,
   "metadata": {},
   "outputs": [
    {
     "name": "stderr",
     "output_type": "stream",
     "text": [
      "Clipping input data to the valid range for imshow with RGB data ([0..1] for floats or [0..255] for integers).\n"
     ]
    },
    {
     "name": "stdout",
     "output_type": "stream",
     "text": [
      "torch.Size([1, 28, 28])\n"
     ]
    },
    {
     "data": {
      "image/png": "[encoded data removed]",
      "text/plain": [
       "<Figure size 432x288 with 1 Axes>"
      ]
     },
     "metadata": {
      "needs_background": "light"
     },
     "output_type": "display_data"
    }
   ],
   "source": [
    "final_mean = torch.mean(torch.cat(mu, dim=0), dim=0, keepdim=True)\n",
    "print(final_mean.shape)\n",
    "_imshow(final_mean)"
   ]
  },
  {
   "cell_type": "code",
   "execution_count": 228,
   "metadata": {
    "scrolled": false
   },
   "outputs": [
    {
     "data": {
      "image/png": "[encoded data removed]",
      "text/plain": [
       "<Figure size 432x288 with 1 Axes>"
      ]
     },
     "metadata": {
      "needs_background": "light"
     },
     "output_type": "display_data"
    }
   ],
   "source": [
    "min_v = torch.min(final_mean)\n",
    "range_v = torch.max(final_mean) - min_v\n",
    "if range_v > 0:\n",
    "    normalised = (final_mean - min_v) / range_v\n",
    "else:\n",
    "    normalised = torch.zeros(final_mean.size())\n",
    "\n",
    "_imshow(normalised)"
   ]
  },
  {
   "cell_type": "code",
   "execution_count": null,
   "metadata": {},
   "outputs": [],
   "source": []
  }
 ],
 "metadata": {
  "kernelspec": {
   "display_name": "py36",
   "language": "python",
   "name": "py36"
  },
  "language_info": {
   "codemirror_mode": {
    "name": "ipython",
    "version": 3
   },
   "file_extension": ".py",
   "mimetype": "text/x-python",
   "name": "python",
   "nbconvert_exporter": "python",
   "pygments_lexer": "ipython3",
   "version": "3.6.8"
  }
 },
 "nbformat": 4,
 "nbformat_minor": 2
}
